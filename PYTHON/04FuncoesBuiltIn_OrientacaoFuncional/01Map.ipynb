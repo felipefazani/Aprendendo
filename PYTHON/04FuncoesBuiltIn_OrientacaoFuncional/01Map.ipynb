{
 "cells": [
  {
   "cell_type": "markdown",
   "id": "31e601b3",
   "metadata": {},
   "source": [
    "## Map\n",
    "\n",
    "A função map é uma função Built-in do Python serve para aplicar uma função em alguma lista e retorna uma lista com cada elemento desta alterado pela função. Essa função evita de ter que criar um loop para alterar os valores de uma lista por uma função.\n",
    "\n",
    "```map(função, lista)```"
   ]
  },
  {
   "cell_type": "code",
   "execution_count": 1,
   "id": "c1152cdc",
   "metadata": {},
   "outputs": [],
   "source": [
    "# criando funções\n",
    "\n",
    "def fahrenheit(T):\n",
    "    return (float(9)/5 * T) + 32\n",
    "\n",
    "def celsius(T):\n",
    "    return (float(5)/9) * (T-32)"
   ]
  },
  {
   "cell_type": "code",
   "execution_count": 2,
   "id": "19832a21",
   "metadata": {},
   "outputs": [],
   "source": [
    "# Criando uma lista\n",
    "temperaturas = [0, 32, 40, 70, 100, -15]"
   ]
  },
  {
   "cell_type": "code",
   "execution_count": 4,
   "id": "83b81718",
   "metadata": {},
   "outputs": [
    {
     "data": {
      "text/plain": [
       "<map at 0x27276b72910>"
      ]
     },
     "execution_count": 4,
     "metadata": {},
     "output_type": "execute_result"
    }
   ],
   "source": [
    "# a função map no Python 3 retorna um iterator\n",
    "\n",
    "map(fahrenheit, temperaturas)"
   ]
  },
  {
   "cell_type": "code",
   "execution_count": 5,
   "id": "55fe2bfd",
   "metadata": {},
   "outputs": [
    {
     "data": {
      "text/plain": [
       "[32.0, 89.6, 104.0, 158.0, 212.0, 5.0]"
      ]
     },
     "execution_count": 5,
     "metadata": {},
     "output_type": "execute_result"
    }
   ],
   "source": [
    "# Mas nós podemos transformar esse iterator em lista\n",
    "list(map(fahrenheit, temperaturas))"
   ]
  },
  {
   "cell_type": "code",
   "execution_count": 6,
   "id": "c2ec1033",
   "metadata": {},
   "outputs": [
    {
     "data": {
      "text/plain": [
       "[-17.77777777777778,\n",
       " 0.0,\n",
       " 4.444444444444445,\n",
       " 21.11111111111111,\n",
       " 37.77777777777778,\n",
       " -26.11111111111111]"
      ]
     },
     "execution_count": 6,
     "metadata": {},
     "output_type": "execute_result"
    }
   ],
   "source": [
    "list(map(celsius, temperaturas))"
   ]
  },
  {
   "cell_type": "code",
   "execution_count": 10,
   "id": "5ee9dc5f",
   "metadata": {},
   "outputs": [
    {
     "data": {
      "text/plain": [
       "[32.0, 89.6, 104.0, 158.0, 212.0, 5.0]"
      ]
     },
     "execution_count": 10,
     "metadata": {},
     "output_type": "execute_result"
    }
   ],
   "source": [
    "# É possível utilizar a lambda como parâmetro da função map, o que facilita ainda mais\n",
    "list(map(lambda x: float(9)/5 * x + 32, temperaturas))"
   ]
  },
  {
   "cell_type": "code",
   "execution_count": 11,
   "id": "0bce2d58",
   "metadata": {},
   "outputs": [],
   "source": [
    "# Somando elementos de duas listas\n",
    "\n",
    "lista1 = [1, 2, 3, 4, 5]\n",
    "lista2 = [5, 4, 3, 2, 1]"
   ]
  },
  {
   "cell_type": "code",
   "execution_count": 12,
   "id": "f25d8dac",
   "metadata": {},
   "outputs": [
    {
     "data": {
      "text/plain": [
       "[6, 6, 6, 6, 6]"
      ]
     },
     "execution_count": 12,
     "metadata": {},
     "output_type": "execute_result"
    }
   ],
   "source": [
    "list(map(lambda x, y: x+y, lista1, lista2))"
   ]
  },
  {
   "cell_type": "code",
   "execution_count": 13,
   "id": "5c13644f",
   "metadata": {},
   "outputs": [],
   "source": [
    "# Somando elementos de três listas\n",
    "\n",
    "lista1 = [3, 3, 3, 4, 5]\n",
    "lista2 = [5, 4, 3, 2, 1]\n",
    "lista3 = [7, 8, 9, 10, 11]"
   ]
  },
  {
   "cell_type": "code",
   "execution_count": 14,
   "id": "548c7dd5",
   "metadata": {},
   "outputs": [
    {
     "data": {
      "text/plain": [
       "[15, 15, 15, 16, 17]"
      ]
     },
     "execution_count": 14,
     "metadata": {},
     "output_type": "execute_result"
    }
   ],
   "source": [
    "list(map(lambda x, y, z: x+y+z, lista1, lista2, lista3))"
   ]
  }
 ],
 "metadata": {
  "kernelspec": {
   "display_name": "Python 3 (ipykernel)",
   "language": "python",
   "name": "python3"
  },
  "language_info": {
   "codemirror_mode": {
    "name": "ipython",
    "version": 3
   },
   "file_extension": ".py",
   "mimetype": "text/x-python",
   "name": "python",
   "nbconvert_exporter": "python",
   "pygments_lexer": "ipython3",
   "version": "3.9.7"
  }
 },
 "nbformat": 4,
 "nbformat_minor": 5
}
