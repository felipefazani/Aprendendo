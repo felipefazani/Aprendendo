{
 "cells": [
  {
   "cell_type": "markdown",
   "id": "cc69fbb5",
   "metadata": {},
   "source": [
    "## Map\n",
    "\n",
    "A função map é uma função Built-in do Python serve para aplicar uma função em alguma lista e retorna uma lista com cada elemento desta alterado pela função.\n",
    "\n",
    "```map(função, lista)```"
   ]
  },
  {
   "cell_type": "code",
   "execution_count": 1,
   "id": "6f568576",
   "metadata": {},
   "outputs": [],
   "source": [
    "# criando funções\n",
    "\n",
    "def fahrenheit(T):\n",
    "    return (float(9)/5 * T) + 32\n",
    "\n",
    "def celsius(T):\n",
    "    return (float(5)/9) * (T-32)"
   ]
  },
  {
   "cell_type": "code",
   "execution_count": 2,
   "id": "ea9999bc",
   "metadata": {},
   "outputs": [],
   "source": [
    "# Criando uma lista\n",
    "temperaturas = [0, 32, 40, 70, 100, -15]"
   ]
  },
  {
   "cell_type": "code",
   "execution_count": 4,
   "id": "50a01f74",
   "metadata": {},
   "outputs": [
    {
     "data": {
      "text/plain": [
       "<map at 0x27276b72910>"
      ]
     },
     "execution_count": 4,
     "metadata": {},
     "output_type": "execute_result"
    }
   ],
   "source": [
    "# a função map no Python 3 retorna um iterator\n",
    "\n",
    "map(fahrenheit, temperaturas)"
   ]
  },
  {
   "cell_type": "code",
   "execution_count": null,
   "id": "a5eebbcf",
   "metadata": {},
   "outputs": [],
   "source": []
  }
 ],
 "metadata": {
  "kernelspec": {
   "display_name": "Python 3 (ipykernel)",
   "language": "python",
   "name": "python3"
  },
  "language_info": {
   "codemirror_mode": {
    "name": "ipython",
    "version": 3
   },
   "file_extension": ".py",
   "mimetype": "text/x-python",
   "name": "python",
   "nbconvert_exporter": "python",
   "pygments_lexer": "ipython3",
   "version": "3.9.7"
  }
 },
 "nbformat": 4,
 "nbformat_minor": 5
}
