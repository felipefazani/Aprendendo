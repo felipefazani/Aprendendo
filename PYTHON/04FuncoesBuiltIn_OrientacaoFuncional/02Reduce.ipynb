{
 "cells": [
  {
   "cell_type": "markdown",
   "id": "6b821cf2",
   "metadata": {},
   "source": [
    "## Reduce\n",
    "\n",
    "A função Reduce recebe como parâmetro uma função e uma lista, assim como a map, no entanto ao invés de ela aplicar a função a cada elemento ela aplica a função aos elementos até que sobre um elemento.\n",
    "\n",
    "``` reduce(função, lista) ```"
   ]
  }
 ],
 "metadata": {
  "kernelspec": {
   "display_name": "Python 3 (ipykernel)",
   "language": "python",
   "name": "python3"
  },
  "language_info": {
   "codemirror_mode": {
    "name": "ipython",
    "version": 3
   },
   "file_extension": ".py",
   "mimetype": "text/x-python",
   "name": "python",
   "nbconvert_exporter": "python",
   "pygments_lexer": "ipython3",
   "version": "3.9.7"
  }
 },
 "nbformat": 4,
 "nbformat_minor": 5
}
