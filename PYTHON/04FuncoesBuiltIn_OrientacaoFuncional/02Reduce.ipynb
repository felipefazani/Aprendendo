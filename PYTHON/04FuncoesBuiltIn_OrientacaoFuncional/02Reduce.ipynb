{
 "cells": [
  {
   "cell_type": "markdown",
   "id": "6b821cf2",
   "metadata": {},
   "source": [
    "## Reduce\n",
    "\n",
    "A função Reduce recebe como parâmetro uma função e uma lista, assim como a map, no entanto ao invés de ela aplicar a função a cada elemento ela aplica a função aos elementos até que sobre um elemento.\n",
    "\n",
    "``` reduce(função, lista) ```"
   ]
  },
  {
   "cell_type": "code",
   "execution_count": 1,
   "id": "91648a19",
   "metadata": {},
   "outputs": [],
   "source": [
    "# importando apenas a função reduce\n",
    "from functools import reduce"
   ]
  },
  {
   "cell_type": "code",
   "execution_count": 2,
   "id": "3b296e2b",
   "metadata": {},
   "outputs": [],
   "source": [
    "lista = [10, 20, 30]"
   ]
  },
  {
   "cell_type": "code",
   "execution_count": 3,
   "id": "713a9c64",
   "metadata": {},
   "outputs": [
    {
     "data": {
      "text/plain": [
       "60"
      ]
     },
     "execution_count": 3,
     "metadata": {},
     "output_type": "execute_result"
    }
   ],
   "source": [
    "reduce(lambda x, y: x+y, lista)"
   ]
  },
  {
   "cell_type": "code",
   "execution_count": 4,
   "id": "55206f4e",
   "metadata": {},
   "outputs": [
    {
     "data": {
      "text/plain": [
       "60"
      ]
     },
     "execution_count": 4,
     "metadata": {},
     "output_type": "execute_result"
    }
   ],
   "source": [
    "def soma(a, b):\n",
    "    return a+b\n",
    "reduce(soma, lista)"
   ]
  },
  {
   "cell_type": "code",
   "execution_count": 6,
   "id": "27fb8f8d",
   "metadata": {},
   "outputs": [
    {
     "data": {
      "text/plain": [
       "7"
      ]
     },
     "execution_count": 6,
     "metadata": {},
     "output_type": "execute_result"
    }
   ],
   "source": [
    "# encontrando o maior numero de uma lista\n",
    "lista = [3, 5, 2, 1, 7]\n",
    "\n",
    "reduce(lambda x, y: x if x > y else y, lista)"
   ]
  }
 ],
 "metadata": {
  "kernelspec": {
   "display_name": "Python 3 (ipykernel)",
   "language": "python",
   "name": "python3"
  },
  "language_info": {
   "codemirror_mode": {
    "name": "ipython",
    "version": 3
   },
   "file_extension": ".py",
   "mimetype": "text/x-python",
   "name": "python",
   "nbconvert_exporter": "python",
   "pygments_lexer": "ipython3",
   "version": "3.9.7"
  }
 },
 "nbformat": 4,
 "nbformat_minor": 5
}
