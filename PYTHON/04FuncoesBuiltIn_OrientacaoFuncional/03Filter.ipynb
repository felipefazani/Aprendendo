{
 "cells": [
  {
   "cell_type": "markdown",
   "id": "cd18ddfe",
   "metadata": {},
   "source": [
    "## Filter\n",
    "\n",
    "A função filter, assim como a map e a reduce, também recebe dois argumentos: função e lista. Sua função é filtar os elementos da lista quando a função retornar True, portanto a função passada deve retornar ou True ou False (Booleana) e esta será aplicada a todos os valores da lista e os que retornarem True serão retornados.\n",
    "\n",
    "``` filter(função, lista) ´´´"
   ]
  },
  {
   "cell_type": "code",
   "execution_count": 11,
   "id": "307e4522",
   "metadata": {},
   "outputs": [],
   "source": [
    "# criando a função que será usada para filtrar\n",
    "\n",
    "def verificaPar(x):\n",
    "        if x % 2 == 0:\n",
    "            return True\n",
    "        else:\n",
    "            return False"
   ]
  },
  {
   "cell_type": "code",
   "execution_count": 9,
   "id": "84cbe599",
   "metadata": {},
   "outputs": [],
   "source": [
    "# criando a lista\n",
    "lista = [0, 1, 2, 3, 4, 5, 6, 7, 8, 9, 10, 11, 12, 13, 14, 15, 16, 17, 18, 19, 20]"
   ]
  },
  {
   "cell_type": "code",
   "execution_count": 7,
   "id": "a0fb5622",
   "metadata": {},
   "outputs": [
    {
     "data": {
      "text/plain": [
       "<filter at 0x25cf295cd00>"
      ]
     },
     "execution_count": 7,
     "metadata": {},
     "output_type": "execute_result"
    }
   ],
   "source": [
    "# assim como a função map, o filter retorna um iterator\n",
    "\n",
    "filter(verificaPar, lista)"
   ]
  },
  {
   "cell_type": "code",
   "execution_count": 12,
   "id": "1a66b403",
   "metadata": {},
   "outputs": [
    {
     "data": {
      "text/plain": [
       "[0, 2, 4, 6, 8, 10, 12, 14, 16, 18, 20]"
      ]
     },
     "execution_count": 12,
     "metadata": {},
     "output_type": "execute_result"
    }
   ],
   "source": [
    "# portanto devemos transformá-lo em lista\n",
    "\n",
    "list(filter(verificaPar, lista))"
   ]
  },
  {
   "cell_type": "code",
   "execution_count": 13,
   "id": "cf004394",
   "metadata": {},
   "outputs": [
    {
     "data": {
      "text/plain": [
       "[0, 2, 4, 6, 8, 10, 12, 14, 16, 18, 20]"
      ]
     },
     "execution_count": 13,
     "metadata": {},
     "output_type": "execute_result"
    }
   ],
   "source": [
    "list(filter(lambda x : x%2 == 0, lista))"
   ]
  },
  {
   "cell_type": "code",
   "execution_count": 15,
   "id": "4d758d4e",
   "metadata": {},
   "outputs": [
    {
     "data": {
      "text/plain": [
       "[9, 10, 11, 12, 13, 14, 15, 16, 17, 18, 19, 20]"
      ]
     },
     "execution_count": 15,
     "metadata": {},
     "output_type": "execute_result"
    }
   ],
   "source": [
    "list(filter(lambda a : a > 8, lista))"
   ]
  }
 ],
 "metadata": {
  "kernelspec": {
   "display_name": "Python 3 (ipykernel)",
   "language": "python",
   "name": "python3"
  },
  "language_info": {
   "codemirror_mode": {
    "name": "ipython",
    "version": 3
   },
   "file_extension": ".py",
   "mimetype": "text/x-python",
   "name": "python",
   "nbconvert_exporter": "python",
   "pygments_lexer": "ipython3",
   "version": "3.9.7"
  }
 },
 "nbformat": 4,
 "nbformat_minor": 5
}
