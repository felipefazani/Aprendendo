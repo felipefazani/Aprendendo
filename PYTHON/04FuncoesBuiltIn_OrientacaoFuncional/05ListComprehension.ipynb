{
 "cells": [
  {
   "cell_type": "markdown",
   "id": "7d244f0b",
   "metadata": {},
   "source": [
    "## List Comprehension\n",
    "\n",
    "O List Comprehension aplica uma expressão para cada elemento de uma sequência, criando uma lista de elementos, seria como uma linha de loop for. O List Comprehension é mais rápido que a função map.\n",
    "\n",
    "``` lista = [x for x in \"sequência\"] ```"
   ]
  },
  {
   "cell_type": "code",
   "execution_count": 4,
   "id": "14545ab9",
   "metadata": {},
   "outputs": [],
   "source": [
    "# A leitura do código é esta: retorne x para cada x dentro da sequência \"python\"\n",
    "\n",
    "lista = [x for x in \"python\"]"
   ]
  },
  {
   "cell_type": "code",
   "execution_count": 3,
   "id": "afe365be",
   "metadata": {},
   "outputs": [
    {
     "data": {
      "text/plain": [
       "['p', 'y', 't', 'h', 'o', 'n']"
      ]
     },
     "execution_count": 3,
     "metadata": {},
     "output_type": "execute_result"
    }
   ],
   "source": [
    "lista"
   ]
  },
  {
   "cell_type": "code",
   "execution_count": 8,
   "id": "a6be5e21",
   "metadata": {},
   "outputs": [
    {
     "data": {
      "text/plain": [
       "list"
      ]
     },
     "execution_count": 8,
     "metadata": {},
     "output_type": "execute_result"
    }
   ],
   "source": [
    "type(lista)"
   ]
  },
  {
   "cell_type": "code",
   "execution_count": 11,
   "id": "be6ba5da",
   "metadata": {},
   "outputs": [],
   "source": [
    "# retorne x ao quadrado para cada x de 0 a 10\n",
    "\n",
    "lista = [x**2 for x in range(0, 11)]"
   ]
  },
  {
   "cell_type": "code",
   "execution_count": 7,
   "id": "41baa7c2",
   "metadata": {},
   "outputs": [
    {
     "data": {
      "text/plain": [
       "[0, 1, 4, 9, 16, 25, 36, 49, 64, 81, 100]"
      ]
     },
     "execution_count": 7,
     "metadata": {},
     "output_type": "execute_result"
    }
   ],
   "source": [
    "lista"
   ]
  },
  {
   "cell_type": "code",
   "execution_count": 9,
   "id": "43b70e9e",
   "metadata": {},
   "outputs": [],
   "source": [
    "# retorne x para cada x de 0 a 20 se o resto da divisão de x por 2 for 0\n",
    "\n",
    "lista = [x for x in range(0, 21) if x%2 == 0]"
   ]
  },
  {
   "cell_type": "code",
   "execution_count": 10,
   "id": "b6e27f3d",
   "metadata": {},
   "outputs": [
    {
     "data": {
      "text/plain": [
       "[0, 2, 4, 6, 8, 10, 12, 14, 16, 18, 20]"
      ]
     },
     "execution_count": 10,
     "metadata": {},
     "output_type": "execute_result"
    }
   ],
   "source": [
    "lista"
   ]
  },
  {
   "cell_type": "code",
   "execution_count": 12,
   "id": "85477f13",
   "metadata": {},
   "outputs": [],
   "source": [
    "# list comprehension aninhado\n",
    "\n",
    "lista = [x**2 for x in [x**2 for x in range(0, 11)]]"
   ]
  },
  {
   "cell_type": "code",
   "execution_count": 13,
   "id": "111d554d",
   "metadata": {},
   "outputs": [
    {
     "data": {
      "text/plain": [
       "[0, 1, 16, 81, 256, 625, 1296, 2401, 4096, 6561, 10000]"
      ]
     },
     "execution_count": 13,
     "metadata": {},
     "output_type": "execute_result"
    }
   ],
   "source": [
    "lista"
   ]
  }
 ],
 "metadata": {
  "kernelspec": {
   "display_name": "Python 3 (ipykernel)",
   "language": "python",
   "name": "python3"
  },
  "language_info": {
   "codemirror_mode": {
    "name": "ipython",
    "version": 3
   },
   "file_extension": ".py",
   "mimetype": "text/x-python",
   "name": "python",
   "nbconvert_exporter": "python",
   "pygments_lexer": "ipython3",
   "version": "3.9.7"
  }
 },
 "nbformat": 4,
 "nbformat_minor": 5
}
