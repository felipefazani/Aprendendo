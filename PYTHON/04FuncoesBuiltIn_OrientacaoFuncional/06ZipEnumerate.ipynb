{
 "cells": [
  {
   "cell_type": "markdown",
   "id": "9efbd8db",
   "metadata": {},
   "source": [
    "## Zip e Enumerate\n",
    "\n",
    "### Zip\n",
    "\n",
    "A função zip vai reunir duas listas em uma tupla, a quantidade de elementos das tuplas podem ser diferentes mas sempre será retornado a quantidade da menor lista.\n",
    "\n",
    "Exemplo: \n",
    "\n",
    "``` zip([1, 2, 3, 4], [3, 2, 1]) ``` \n",
    "\n",
    "Saída:\n",
    "\n",
    "``` (1, 3) (2, 2) (1, 3) ```\n",
    "\n",
    "### Enumerate\n",
    "\n",
    "A função enumerate vai retornar uma tupla com a dupla índice e valor de uma lista ou sequência."
   ]
  },
  {
   "cell_type": "code",
   "execution_count": 1,
   "id": "61c7b37d",
   "metadata": {},
   "outputs": [],
   "source": [
    "lista1 = [1, 2, 3]\n",
    "lista2 = [4, 5, 6]"
   ]
  },
  {
   "cell_type": "code",
   "execution_count": 3,
   "id": "66d2db64",
   "metadata": {},
   "outputs": [
    {
     "data": {
      "text/plain": [
       "<zip at 0x2b82bcdee40>"
      ]
     },
     "execution_count": 3,
     "metadata": {},
     "output_type": "execute_result"
    }
   ],
   "source": [
    "# Da mesma forma que o map e o filter, em Python 3, o zip também retorna um iterator\n",
    "\n",
    "zip(lista1, lista2)"
   ]
  },
  {
   "cell_type": "code",
   "execution_count": 4,
   "id": "288fabc5",
   "metadata": {},
   "outputs": [
    {
     "data": {
      "text/plain": [
       "[(1, 4), (2, 5), (3, 6)]"
      ]
     },
     "execution_count": 4,
     "metadata": {},
     "output_type": "execute_result"
    }
   ],
   "source": [
    "# assim criamos uma lista de tuplas com 2 elementos\n",
    "\n",
    "list(zip(lista1, lista2))"
   ]
  },
  {
   "cell_type": "code",
   "execution_count": 7,
   "id": "b5b97d3a",
   "metadata": {},
   "outputs": [],
   "source": [
    "list1 = [1, 2, 3]\n",
    "list2 = [4, 5, 6, 7]"
   ]
  },
  {
   "cell_type": "code",
   "execution_count": 9,
   "id": "8b899504",
   "metadata": {},
   "outputs": [
    {
     "data": {
      "text/plain": [
       "[(1, 4), (2, 5), (3, 6)]"
      ]
     },
     "execution_count": 9,
     "metadata": {},
     "output_type": "execute_result"
    }
   ],
   "source": [
    "# mesmo que a list2 tenha 4 elementos só será retornado a quantidade do menor, que no caso é 3\n",
    "\n",
    "\n",
    "list(zip(list1, list2))"
   ]
  },
  {
   "cell_type": "code",
   "execution_count": 11,
   "id": "4f6971b7",
   "metadata": {},
   "outputs": [],
   "source": [
    "d1 = {'a': 1, 'b' : 2}\n",
    "d2 = {'x': 30, 'y': 40}"
   ]
  },
  {
   "cell_type": "code",
   "execution_count": 13,
   "id": "5ec5f315",
   "metadata": {},
   "outputs": [
    {
     "data": {
      "text/plain": [
       "[('a', 'x'), ('b', 'y')]"
      ]
     },
     "execution_count": 13,
     "metadata": {},
     "output_type": "execute_result"
    }
   ],
   "source": [
    "# dessa forma vamos criar as duplas apenas com as chaves\n",
    "\n",
    "list(zip(d1, d2))"
   ]
  },
  {
   "cell_type": "code",
   "execution_count": 15,
   "id": "fc178030",
   "metadata": {},
   "outputs": [
    {
     "data": {
      "text/plain": [
       "[('a', 30), ('b', 40)]"
      ]
     },
     "execution_count": 15,
     "metadata": {},
     "output_type": "execute_result"
    }
   ],
   "source": [
    "# para usar os valores basta usar o método values()\n",
    "\n",
    "# assim juntamos a chave do d1 com os valores do d2\n",
    "list(zip(d1, d2.values()))"
   ]
  },
  {
   "cell_type": "code",
   "execution_count": 22,
   "id": "a877e296",
   "metadata": {},
   "outputs": [],
   "source": [
    "# podemos trocar os valores de dois dicionários\n",
    "\n",
    "def trocaValores(d1, d2):\n",
    "    dTemp = {}\n",
    "    \n",
    "    \n",
    "    # o zip vai retornar um iterator, uma sequência, com as duplas chave de d1 e valor de d2\n",
    "    # então vamos criar um outro dicionário com chave de d1 e valor de d2\n",
    "    for d1key, d2val in zip(d1, d2.values()):\n",
    "        dTemp[d1key] = d2val\n",
    "        \n",
    "    return dTemp"
   ]
  },
  {
   "cell_type": "code",
   "execution_count": 23,
   "id": "e7609d8b",
   "metadata": {},
   "outputs": [
    {
     "data": {
      "text/plain": [
       "{'a': 30, 'b': 40}"
      ]
     },
     "execution_count": 23,
     "metadata": {},
     "output_type": "execute_result"
    }
   ],
   "source": [
    "trocaValores(d1, d2)"
   ]
  },
  {
   "cell_type": "code",
   "execution_count": 2,
   "id": "f391a5a0",
   "metadata": {},
   "outputs": [],
   "source": [
    "# agora a função enumerate\n",
    "\n",
    "lista = \"Python\""
   ]
  },
  {
   "cell_type": "code",
   "execution_count": 4,
   "id": "3bbf1d93",
   "metadata": {},
   "outputs": [
    {
     "data": {
      "text/plain": [
       "<enumerate at 0x23068a4df80>"
      ]
     },
     "execution_count": 4,
     "metadata": {},
     "output_type": "execute_result"
    }
   ],
   "source": [
    "# também retorna um iterator\n",
    "\n",
    "enumerate(lista)"
   ]
  },
  {
   "cell_type": "code",
   "execution_count": 5,
   "id": "95ee7e30",
   "metadata": {},
   "outputs": [
    {
     "data": {
      "text/plain": [
       "[(0, 'P'), (1, 'y'), (2, 't'), (3, 'h'), (4, 'o'), (5, 'n')]"
      ]
     },
     "execution_count": 5,
     "metadata": {},
     "output_type": "execute_result"
    }
   ],
   "source": [
    "list(enumerate(lista))"
   ]
  },
  {
   "cell_type": "code",
   "execution_count": 6,
   "id": "30a84bd7",
   "metadata": {},
   "outputs": [],
   "source": [
    "lista = [\"Python\", \"Java\", \"C++\"]"
   ]
  },
  {
   "cell_type": "code",
   "execution_count": 9,
   "id": "37fc43c8",
   "metadata": {},
   "outputs": [
    {
     "name": "stdout",
     "output_type": "stream",
     "text": [
      "0 Python\n",
      "1 Java\n",
      "2 C++\n"
     ]
    }
   ],
   "source": [
    "for i, item in enumerate(lista):\n",
    "    print(i, item)"
   ]
  }
 ],
 "metadata": {
  "kernelspec": {
   "display_name": "Python 3 (ipykernel)",
   "language": "python",
   "name": "python3"
  },
  "language_info": {
   "codemirror_mode": {
    "name": "ipython",
    "version": 3
   },
   "file_extension": ".py",
   "mimetype": "text/x-python",
   "name": "python",
   "nbconvert_exporter": "python",
   "pygments_lexer": "ipython3",
   "version": "3.9.7"
  }
 },
 "nbformat": 4,
 "nbformat_minor": 5
}
