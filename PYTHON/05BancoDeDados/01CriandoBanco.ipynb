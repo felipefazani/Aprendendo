{
 "cells": [
  {
   "cell_type": "markdown",
   "id": "1a13d305",
   "metadata": {},
   "source": [
    "## Banco de dados\n",
    "### Usando SQLite com Python\n",
    "\n",
    "Vamos criar um banco de dados usando o Python com o SGBD SQLite"
   ]
  },
  {
   "cell_type": "code",
   "execution_count": 2,
   "id": "3caf7ca2",
   "metadata": {},
   "outputs": [],
   "source": [
    "# vamos excluir o banco de dados caso ele exista\n",
    "import os\n",
    "\n",
    "os.remove(\"escola.db\") if os.path.exists(\"escola.db\") else None"
   ]
  },
  {
   "cell_type": "code",
   "execution_count": 3,
   "id": "5a6cc868",
   "metadata": {},
   "outputs": [],
   "source": [
    "# importar o módulo do SQLite\n",
    "\n",
    "import sqlite3"
   ]
  },
  {
   "cell_type": "code",
   "execution_count": 4,
   "id": "3ebe65d7",
   "metadata": {},
   "outputs": [],
   "source": [
    "# criar uma conexao com o banco caso ele exista, caso contrário é criado\n",
    "\n",
    "con = sqlite3.connect('escola.db')"
   ]
  },
  {
   "cell_type": "code",
   "execution_count": 5,
   "id": "74cd0e1d",
   "metadata": {},
   "outputs": [
    {
     "data": {
      "text/plain": [
       "sqlite3.Connection"
      ]
     },
     "execution_count": 5,
     "metadata": {},
     "output_type": "execute_result"
    }
   ],
   "source": [
    "type(con)"
   ]
  },
  {
   "cell_type": "code",
   "execution_count": 7,
   "id": "36e4c1ad",
   "metadata": {},
   "outputs": [],
   "source": [
    "# para percorrer registros de tabelas de bancos de dados\n",
    "# criamos um cursor, antes mesmo de criar o banco\n",
    "# pois é diferente da conexão, onde nos conectamos ao arquivo para\n",
    "# poder alterá-lo\n",
    "\n",
    "cur = con.cursor()"
   ]
  },
  {
   "cell_type": "code",
   "execution_count": 8,
   "id": "c5dcbe72",
   "metadata": {},
   "outputs": [
    {
     "data": {
      "text/plain": [
       "sqlite3.Cursor"
      ]
     },
     "execution_count": 8,
     "metadata": {},
     "output_type": "execute_result"
    }
   ],
   "source": [
    "type(cur)"
   ]
  },
  {
   "cell_type": "code",
   "execution_count": 9,
   "id": "3cb3139a",
   "metadata": {},
   "outputs": [],
   "source": [
    "# um comando sql sendo armanazenado em uma variavel do tipo string\n",
    "\n",
    "sql_create = \"create table cursos (id integer primary key, titulo varchar (100), categoria varchar (140))\""
   ]
  },
  {
   "cell_type": "code",
   "execution_count": 10,
   "id": "0aee6ca1",
   "metadata": {},
   "outputs": [
    {
     "data": {
      "text/plain": [
       "<sqlite3.Cursor at 0x29aa93ca260>"
      ]
     },
     "execution_count": 10,
     "metadata": {},
     "output_type": "execute_result"
    }
   ],
   "source": [
    "cur.execute(sql_create)"
   ]
  },
  {
   "cell_type": "code",
   "execution_count": 20,
   "id": "30106d21",
   "metadata": {},
   "outputs": [],
   "source": [
    "sql_insertion = \"insert into cursos values (? , ?, ?)\""
   ]
  },
  {
   "cell_type": "code",
   "execution_count": 21,
   "id": "30ccfd60",
   "metadata": {},
   "outputs": [],
   "source": [
    "dados = [\n",
    "    (100, 'Analise e Desenvolvimento de Sistemas', 'Tecnologia'),\n",
    "    (101, 'Gestao de Tecnologia da Informação', 'Tecnologia'),\n",
    "    (102, 'Processos Quimicos', 'Ciencia')\n",
    "]"
   ]
  },
  {
   "cell_type": "code",
   "execution_count": 23,
   "id": "a27dfd6c",
   "metadata": {},
   "outputs": [
    {
     "ename": "IntegrityError",
     "evalue": "UNIQUE constraint failed: cursos.id",
     "output_type": "error",
     "traceback": [
      "\u001b[1;31m---------------------------------------------------------------------------\u001b[0m",
      "\u001b[1;31mIntegrityError\u001b[0m                            Traceback (most recent call last)",
      "\u001b[1;32m~\\AppData\\Local\\Temp/ipykernel_15332/2881495020.py\u001b[0m in \u001b[0;36m<module>\u001b[1;34m\u001b[0m\n\u001b[0;32m      1\u001b[0m \u001b[1;32mfor\u001b[0m \u001b[0meach\u001b[0m \u001b[1;32min\u001b[0m \u001b[0mdados\u001b[0m\u001b[1;33m:\u001b[0m\u001b[1;33m\u001b[0m\u001b[1;33m\u001b[0m\u001b[0m\n\u001b[1;32m----> 2\u001b[1;33m     \u001b[0mcur\u001b[0m\u001b[1;33m.\u001b[0m\u001b[0mexecute\u001b[0m\u001b[1;33m(\u001b[0m\u001b[0msql_insertion\u001b[0m\u001b[1;33m,\u001b[0m \u001b[0meach\u001b[0m\u001b[1;33m)\u001b[0m\u001b[1;33m\u001b[0m\u001b[1;33m\u001b[0m\u001b[0m\n\u001b[0m",
      "\u001b[1;31mIntegrityError\u001b[0m: UNIQUE constraint failed: cursos.id"
     ]
    }
   ],
   "source": [
    "for each in dados:\n",
    "    cur.execute(sql_insertion, each)"
   ]
  },
  {
   "cell_type": "code",
   "execution_count": 26,
   "id": "471c6907",
   "metadata": {},
   "outputs": [],
   "source": [
    "# grava a transação caso a conexão com o banco de dados caia\n",
    "con.commit()"
   ]
  },
  {
   "cell_type": "code",
   "execution_count": 27,
   "id": "8dc86ad8",
   "metadata": {},
   "outputs": [],
   "source": [
    "sql_select = \"select * from cursos\""
   ]
  },
  {
   "cell_type": "code",
   "execution_count": 33,
   "id": "5dfccd9b",
   "metadata": {},
   "outputs": [
    {
     "ename": "ProgrammingError",
     "evalue": "Cannot operate on a closed database.",
     "output_type": "error",
     "traceback": [
      "\u001b[1;31m---------------------------------------------------------------------------\u001b[0m",
      "\u001b[1;31mProgrammingError\u001b[0m                          Traceback (most recent call last)",
      "\u001b[1;32m~\\AppData\\Local\\Temp/ipykernel_15332/3670882299.py\u001b[0m in \u001b[0;36m<module>\u001b[1;34m\u001b[0m\n\u001b[1;32m----> 1\u001b[1;33m \u001b[0mcur\u001b[0m\u001b[1;33m.\u001b[0m\u001b[0mexecute\u001b[0m\u001b[1;33m(\u001b[0m\u001b[0msql_select\u001b[0m\u001b[1;33m)\u001b[0m\u001b[1;33m\u001b[0m\u001b[1;33m\u001b[0m\u001b[0m\n\u001b[0m\u001b[0;32m      2\u001b[0m \u001b[0mdata\u001b[0m \u001b[1;33m=\u001b[0m \u001b[0mcur\u001b[0m\u001b[1;33m.\u001b[0m\u001b[0mfetchall\u001b[0m\u001b[1;33m(\u001b[0m\u001b[1;33m)\u001b[0m\u001b[1;33m\u001b[0m\u001b[1;33m\u001b[0m\u001b[0m\n",
      "\u001b[1;31mProgrammingError\u001b[0m: Cannot operate on a closed database."
     ]
    }
   ],
   "source": [
    "cur.execute(sql_select)\n",
    "data = cur.fetchall()"
   ]
  },
  {
   "cell_type": "code",
   "execution_count": 31,
   "id": "11a9f86a",
   "metadata": {},
   "outputs": [
    {
     "name": "stdout",
     "output_type": "stream",
     "text": [
      "(100, 'Analise e Desenvolvimento de Sistemas', 'Tecnologia')\n",
      "(101, 'Gestao de Tecnologia da Informação', 'Tecnologia')\n",
      "(102, 'Processos Quimicos', 'Ciencia')\n"
     ]
    }
   ],
   "source": [
    "for linha in data:\n",
    "    print(linha)"
   ]
  },
  {
   "cell_type": "code",
   "execution_count": 32,
   "id": "429b10db",
   "metadata": {},
   "outputs": [],
   "source": [
    "con.close()"
   ]
  }
 ],
 "metadata": {
  "kernelspec": {
   "display_name": "Python 3 (ipykernel)",
   "language": "python",
   "name": "python3"
  },
  "language_info": {
   "codemirror_mode": {
    "name": "ipython",
    "version": 3
   },
   "file_extension": ".py",
   "mimetype": "text/x-python",
   "name": "python",
   "nbconvert_exporter": "python",
   "pygments_lexer": "ipython3",
   "version": "3.9.7"
  }
 },
 "nbformat": 4,
 "nbformat_minor": 5
}
