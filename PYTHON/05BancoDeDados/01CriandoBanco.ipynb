{
 "cells": [
  {
   "cell_type": "markdown",
   "id": "1a13d305",
   "metadata": {},
   "source": [
    "## Banco de dados\n",
    "### Usando SQLite com Python\n",
    "\n",
    "Vamos criar um banco de dados usando o Python com o SGBD SQLite"
   ]
  },
  {
   "cell_type": "code",
   "execution_count": 29,
   "id": "3caf7ca2",
   "metadata": {},
   "outputs": [],
   "source": [
    "# vamos excluir o banco de dados caso ele exista\n",
    "import os\n",
    "\n",
    "os.remove(\"escola.db\") if os.path.exists(\"escola.db\") else None"
   ]
  },
  {
   "cell_type": "code",
   "execution_count": 30,
   "id": "5a6cc868",
   "metadata": {},
   "outputs": [],
   "source": [
    "# importar o módulo do SQLite\n",
    "\n",
    "import sqlite3"
   ]
  },
  {
   "cell_type": "code",
   "execution_count": 31,
   "id": "3ebe65d7",
   "metadata": {},
   "outputs": [],
   "source": [
    "# criar uma conexao com o banco caso ele exista, caso contrário é criado\n",
    "\n",
    "con = sqlite3.connect('escola.db')"
   ]
  },
  {
   "cell_type": "code",
   "execution_count": 32,
   "id": "74cd0e1d",
   "metadata": {},
   "outputs": [
    {
     "data": {
      "text/plain": [
       "sqlite3.Connection"
      ]
     },
     "execution_count": 32,
     "metadata": {},
     "output_type": "execute_result"
    }
   ],
   "source": [
    "type(con)"
   ]
  },
  {
   "cell_type": "code",
   "execution_count": 33,
   "id": "36e4c1ad",
   "metadata": {},
   "outputs": [],
   "source": [
    "# para percorrer registros de tabelas de bancos de dados\n",
    "# criamos um cursor, antes mesmo de criar o banco\n",
    "# pois é diferente da conexão, onde nos conectamos ao arquivo para\n",
    "# poder alterá-lo\n",
    "\n",
    "cur = con.cursor()"
   ]
  },
  {
   "cell_type": "code",
   "execution_count": 34,
   "id": "c5dcbe72",
   "metadata": {},
   "outputs": [
    {
     "data": {
      "text/plain": [
       "sqlite3.Cursor"
      ]
     },
     "execution_count": 34,
     "metadata": {},
     "output_type": "execute_result"
    }
   ],
   "source": [
    "type(cur)"
   ]
  },
  {
   "cell_type": "code",
   "execution_count": 35,
   "id": "3cb3139a",
   "metadata": {},
   "outputs": [],
   "source": [
    "# um comando sql sendo armanazenado em uma variavel do tipo string\n",
    "\n",
    "sql_create = \"create table cursos (id integer primary key, titulo varchar (100), categoria varchar (140))\""
   ]
  },
  {
   "cell_type": "code",
   "execution_count": 36,
   "id": "0aee6ca1",
   "metadata": {},
   "outputs": [
    {
     "data": {
      "text/plain": [
       "<sqlite3.Cursor at 0x15417cda6c0>"
      ]
     },
     "execution_count": 36,
     "metadata": {},
     "output_type": "execute_result"
    }
   ],
   "source": [
    "cur.execute(sql_create)"
   ]
  },
  {
   "cell_type": "code",
   "execution_count": 37,
   "id": "30106d21",
   "metadata": {},
   "outputs": [],
   "source": [
    "sql_insertion = \"insert into cursos values (? , ?, ?)\""
   ]
  },
  {
   "cell_type": "code",
   "execution_count": 38,
   "id": "30ccfd60",
   "metadata": {},
   "outputs": [],
   "source": [
    "dados = [\n",
    "    (100, 'Analise e Desenvolvimento de Sistemas', 'Tecnologia'),\n",
    "    (101, 'Gestao de Tecnologia da Informação', 'Tecnologia'),\n",
    "    (102, 'Processos Quimicos', 'Ciencia')\n",
    "]"
   ]
  },
  {
   "cell_type": "code",
   "execution_count": 39,
   "id": "a27dfd6c",
   "metadata": {},
   "outputs": [],
   "source": [
    "for each in dados:\n",
    "    cur.execute(sql_insertion, each)"
   ]
  },
  {
   "cell_type": "code",
   "execution_count": 40,
   "id": "90ccc213",
   "metadata": {},
   "outputs": [
    {
     "data": {
      "text/plain": [
       "<sqlite3.Cursor at 0x15417cda6c0>"
      ]
     },
     "execution_count": 40,
     "metadata": {},
     "output_type": "execute_result"
    }
   ],
   "source": [
    "# outra forma de inserir\n",
    "\n",
    "cur.execute(\"INSERT INTO cursos VALUES (103, 'Engenharia da Computação', 'Engenharia')\")"
   ]
  },
  {
   "cell_type": "code",
   "execution_count": 41,
   "id": "e19c1f78",
   "metadata": {},
   "outputs": [
    {
     "data": {
      "text/plain": [
       "<sqlite3.Cursor at 0x15417cda6c0>"
      ]
     },
     "execution_count": 41,
     "metadata": {},
     "output_type": "execute_result"
    }
   ],
   "source": [
    "# outra forma de inserir, pode usar variaveis tambem\n",
    "\n",
    "cur.execute(\"INSERT INTO cursos VALUES (?, ?, ?)\", (104, 'Engenharia Elétrica', 'Engenharia'))"
   ]
  },
  {
   "cell_type": "code",
   "execution_count": 42,
   "id": "471c6907",
   "metadata": {},
   "outputs": [],
   "source": [
    "# grava a transação caso a conexão com o banco de dados caia\n",
    "con.commit()"
   ]
  },
  {
   "cell_type": "code",
   "execution_count": 53,
   "id": "8dc86ad8",
   "metadata": {},
   "outputs": [],
   "source": [
    "# uma das formas de demonstrar \n",
    "\n",
    "sql_select = \"select * from cursos\""
   ]
  },
  {
   "cell_type": "code",
   "execution_count": 54,
   "id": "5dfccd9b",
   "metadata": {},
   "outputs": [],
   "source": [
    "# executando o código do select precisamos dar um fetchall(), o qual podemos inseri-lo em uma variavel\n",
    "\n",
    "cur.execute(sql_select)\n",
    "data = cur.fetchall()"
   ]
  },
  {
   "cell_type": "code",
   "execution_count": 55,
   "id": "11a9f86a",
   "metadata": {},
   "outputs": [
    {
     "name": "stdout",
     "output_type": "stream",
     "text": [
      "(100, 'Analise e Desenvolvimento de Sistemas', 'Tecnologia')\n",
      "(101, 'Gestao de Tecnologia da Informação', 'Tecnologia')\n",
      "(102, 'Processos Quimicos', 'Ciencia')\n",
      "(103, 'Engenharia da Computação', 'Engenharia')\n",
      "(105, 'Engenharia Elétrica', 'Engenharia')\n"
     ]
    }
   ],
   "source": [
    "for linha in data:\n",
    "    print(linha)"
   ]
  },
  {
   "cell_type": "code",
   "execution_count": 48,
   "id": "db607777",
   "metadata": {},
   "outputs": [
    {
     "name": "stdout",
     "output_type": "stream",
     "text": [
      "Tecnologia\n",
      "Tecnologia\n",
      "Ciencia\n",
      "Engenharia\n",
      "Engenharia\n"
     ]
    }
   ],
   "source": [
    "# retornando apenas a coluna da categoria\n",
    "cur.execute(\"SELECT * FROM cursos\")\n",
    "for linha in cur.fetchall():\n",
    "    print(linha[2])"
   ]
  },
  {
   "cell_type": "code",
   "execution_count": 50,
   "id": "78ea3c11",
   "metadata": {},
   "outputs": [
    {
     "name": "stdout",
     "output_type": "stream",
     "text": [
      "('Tecnologia',)\n",
      "('Tecnologia',)\n",
      "('Ciencia',)\n",
      "('Engenharia',)\n",
      "('Engenharia',)\n"
     ]
    }
   ],
   "source": [
    "# outra maneira apenas usando o código SQL\n",
    "cur.execute(\"SELECT categoria FROM cursos\")\n",
    "for linha in cur.fetchall():\n",
    "    print(linha)"
   ]
  },
  {
   "cell_type": "code",
   "execution_count": 51,
   "id": "5ffa4164",
   "metadata": {},
   "outputs": [
    {
     "name": "stdout",
     "output_type": "stream",
     "text": [
      "(103, 'Engenharia da Computação', 'Engenharia')\n",
      "(104, 'Engenharia Elétrica', 'Engenharia')\n"
     ]
    }
   ],
   "source": [
    "cur.execute(\"SELECT * FROM cursos WHERE categoria='Engenharia'\")\n",
    "for linha in cur.fetchall():\n",
    "    print(linha)"
   ]
  },
  {
   "cell_type": "code",
   "execution_count": 52,
   "id": "92938e25",
   "metadata": {},
   "outputs": [],
   "source": [
    "# atualizando dados\n",
    "\n",
    "cur.execute(\"UPDATE cursos SET id= 105 WHERE id = 104\")\n",
    "con.commit()"
   ]
  },
  {
   "cell_type": "code",
   "execution_count": 56,
   "id": "4944fbf8",
   "metadata": {},
   "outputs": [],
   "source": [
    "# excluindo dados\n",
    "\n",
    "cur.execute(\"DELETE FROM cursos WHERE id=105\")\n",
    "con.commit()"
   ]
  },
  {
   "cell_type": "code",
   "execution_count": null,
   "id": "acdfee67",
   "metadata": {},
   "outputs": [],
   "source": [
    "con.close()"
   ]
  }
 ],
 "metadata": {
  "kernelspec": {
   "display_name": "Python 3 (ipykernel)",
   "language": "python",
   "name": "python3"
  },
  "language_info": {
   "codemirror_mode": {
    "name": "ipython",
    "version": 3
   },
   "file_extension": ".py",
   "mimetype": "text/x-python",
   "name": "python",
   "nbconvert_exporter": "python",
   "pygments_lexer": "ipython3",
   "version": "3.9.7"
  }
 },
 "nbformat": 4,
 "nbformat_minor": 5
}
