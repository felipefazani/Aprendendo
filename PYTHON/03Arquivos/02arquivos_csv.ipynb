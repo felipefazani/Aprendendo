{
 "cells": [
  {
   "cell_type": "markdown",
   "id": "68d9160a",
   "metadata": {},
   "source": [
    "## Manipulando arquivos CSV (comma-separeted values)\n",
    "\n",
    "é basicamente isso que significa arquivos CSV: valores separados por vírgula ( mas nem sempre será separado por vírgulas)\n",
    "\n",
    "Para nós manipularmos arquivos csv em python precisamos importar seu pacote"
   ]
  },
  {
   "cell_type": "code",
   "execution_count": 1,
   "id": "cea82760",
   "metadata": {},
   "outputs": [],
   "source": [
    "import csv"
   ]
  },
  {
   "cell_type": "code",
   "execution_count": 2,
   "id": "057fc898",
   "metadata": {},
   "outputs": [],
   "source": [
    "with open(\"arquivos/numeros.csv\", \"w\") as arquivo:\n",
    "    # o with serve para fechar o arquivo depois que termina o bloco de código\n",
    "    escritor = csv.writer(arquivo)\n",
    "    escritor.writerow(('primeira', 'segunda', 'terceira'))\n",
    "    escritor.writerow((10, 20, 30))\n",
    "    escritor.writerow((40, 50, 60))\n",
    "    escritor.writerow((70, 80, 90))"
   ]
  },
  {
   "cell_type": "code",
   "execution_count": 4,
   "id": "68a8f23f",
   "metadata": {},
   "outputs": [
    {
     "name": "stdout",
     "output_type": "stream",
     "text": [
      "['primeira', 'segunda', 'terceira']\n",
      "[]\n",
      "['10', '20', '30']\n",
      "[]\n",
      "['40', '50', '60']\n",
      "[]\n",
      "['70', '80', '90']\n",
      "[]\n"
     ]
    }
   ],
   "source": [
    "# essa é uma das formas de ler \n",
    "with open(\"arquivos/numeros.csv\", \"r\") as arquivo:\n",
    "    leitor = csv.reader(arquivo)\n",
    "    for x in leitor:\n",
    "        print(x)"
   ]
  }
 ],
 "metadata": {
  "kernelspec": {
   "display_name": "Python 3 (ipykernel)",
   "language": "python",
   "name": "python3"
  },
  "language_info": {
   "codemirror_mode": {
    "name": "ipython",
    "version": 3
   },
   "file_extension": ".py",
   "mimetype": "text/x-python",
   "name": "python",
   "nbconvert_exporter": "python",
   "pygments_lexer": "ipython3",
   "version": "3.9.7"
  }
 },
 "nbformat": 4,
 "nbformat_minor": 5
}
