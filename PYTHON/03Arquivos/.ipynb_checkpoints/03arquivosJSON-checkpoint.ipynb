{
 "cells": [
  {
   "cell_type": "markdown",
   "id": "25b62151",
   "metadata": {},
   "source": [
    "## Manipulando arquivos JSON (Java Script Object Notation)\n",
    "\n",
    "Os arquivos JSON (JavaScript Object Notation) são uma maneira de armazenar informações de forma fácil e organizado. Uma coleção legível de dados que pode ser acessado de forma muito lógica. Usado como fonte em Big Data."
   ]
  },
  {
   "cell_type": "code",
   "execution_count": null,
   "id": "2ccd65fd",
   "metadata": {},
   "outputs": [],
   "source": [
    "dicionario = {'nome' : 'Robson',\n",
    "              'sobrenome': 'da Silva Sauro',\n",
    "             'idade': 36,\n",
    "             'cidade': 'Campinas',}"
   ]
  }
 ],
 "metadata": {
  "kernelspec": {
   "display_name": "Python 3 (ipykernel)",
   "language": "python",
   "name": "python3"
  },
  "language_info": {
   "codemirror_mode": {
    "name": "ipython",
    "version": 3
   },
   "file_extension": ".py",
   "mimetype": "text/x-python",
   "name": "python",
   "nbconvert_exporter": "python",
   "pygments_lexer": "ipython3",
   "version": "3.9.7"
  }
 },
 "nbformat": 4,
 "nbformat_minor": 5
}
