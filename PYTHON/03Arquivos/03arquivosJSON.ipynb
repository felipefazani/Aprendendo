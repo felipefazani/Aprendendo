{
 "cells": [
  {
   "cell_type": "markdown",
   "id": "89d59fe6",
   "metadata": {},
   "source": [
    "## Manipulando arquivos JSON (Java Script Object Notation)\n",
    "\n",
    "Os arquivos JSON (JavaScript Object Notation) são uma maneira de armazenar informações de forma fácil e organizado. Uma coleção legível de dados que pode ser acessado de forma muito lógica. Usado como fonte em Big Data."
   ]
  },
  {
   "cell_type": "code",
   "execution_count": 1,
   "id": "1b602d74",
   "metadata": {},
   "outputs": [],
   "source": [
    "dicionario = {'nome' : 'Robson',\n",
    "              'sobrenome': 'da Silva Sauro',\n",
    "             'idade': 36,\n",
    "             'cidade': 'Campinas'}"
   ]
  },
  {
   "cell_type": "code",
   "execution_count": 6,
   "id": "7d0885f0",
   "metadata": {},
   "outputs": [
    {
     "name": "stdout",
     "output_type": "stream",
     "text": [
      "nome: Robson\n",
      "sobrenome: da Silva Sauro\n",
      "idade: 36\n",
      "cidade: Campinas\n"
     ]
    }
   ],
   "source": [
    "for k, v in dicionario.items():\n",
    "    print(k, \": \", v, sep =\"\")"
   ]
  },
  {
   "cell_type": "markdown",
   "id": "a06b6761",
   "metadata": {},
   "source": [
    "Nós podemos transformar um dicionário do Python em um arquivo JSON:"
   ]
  },
  {
   "cell_type": "code",
   "execution_count": 7,
   "id": "3afa8d13",
   "metadata": {},
   "outputs": [],
   "source": [
    "# importa o módulo JSON\n",
    "import json"
   ]
  },
  {
   "cell_type": "code",
   "execution_count": 9,
   "id": "8799e519",
   "metadata": {},
   "outputs": [
    {
     "data": {
      "text/plain": [
       "'{\"nome\": \"Robson\", \"sobrenome\": \"da Silva Sauro\", \"idade\": 36, \"cidade\": \"Campinas\"}'"
      ]
     },
     "execution_count": 9,
     "metadata": {},
     "output_type": "execute_result"
    }
   ],
   "source": [
    "# com esse método podemos transformar um dicionário em um objeto json\n",
    "\n",
    "json.dumps(dicionario)"
   ]
  },
  {
   "cell_type": "code",
   "execution_count": 10,
   "id": "687cd2c2",
   "metadata": {},
   "outputs": [],
   "source": [
    "# mas para criar um arquivo fazemos assim:\n",
    "with open('arquivos/dados.json', 'w') as arquivo:\n",
    "    arquivo.write(json.dumps(dicionario))"
   ]
  },
  {
   "cell_type": "code",
   "execution_count": 16,
   "id": "fcbd67ff",
   "metadata": {},
   "outputs": [
    {
     "name": "stdout",
     "output_type": "stream",
     "text": [
      "<class 'dict'>\n"
     ]
    }
   ],
   "source": [
    "# Abrindo um arquivo JSON\n",
    "with open('arquivos/dados.json', 'r') as arquivo:\n",
    "    texto = arquivo.read()\n",
    "    dados = json.loads(texto)\n",
    "    print(type(dados))\n",
    "    \n",
    "# o arquivo.read() vai trazer ler o arquivo como texto e retorná-lo, e o json.loads vai transformar a string em dicionário"
   ]
  }
 ],
 "metadata": {
  "kernelspec": {
   "display_name": "Python 3 (ipykernel)",
   "language": "python",
   "name": "python3"
  },
  "language_info": {
   "codemirror_mode": {
    "name": "ipython",
    "version": 3
   },
   "file_extension": ".py",
   "mimetype": "text/x-python",
   "name": "python",
   "nbconvert_exporter": "python",
   "pygments_lexer": "ipython3",
   "version": "3.9.7"
  }
 },
 "nbformat": 4,
 "nbformat_minor": 5
}
